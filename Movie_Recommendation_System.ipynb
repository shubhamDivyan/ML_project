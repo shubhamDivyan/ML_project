{
  "nbformat": 4,
  "nbformat_minor": 0,
  "metadata": {
    "colab": {
      "provenance": [],
      "collapsed_sections": []
    },
    "kernelspec": {
      "name": "python3",
      "display_name": "Python 3"
    },
    "language_info": {
      "name": "python"
    }
  },
  "cells": [
    {
      "cell_type": "markdown",
      "source": [
        "\n",
        "#               **PROJECT** \n",
        "                                             MOVIE RECOMMENDATION\n",
        "\n",
        "Team members\n",
        "\n",
        " Harsh kumar jha ,  Rishika sharma ,  Anshika sahai ,Trisha dutta,Harsh sharma ,Shubham Divyanshu."
      ],
      "metadata": {
        "id": "tu788kxcamrj"
      }
    },
    {
      "cell_type": "code",
      "execution_count": null,
      "metadata": {
        "id": "TvJ4T8yeXeP5"
      },
      "outputs": [],
      "source": [
        "# importing the dependencies\n",
        "# to support array\n",
        "import numpy as np\n",
        "# covert array data into structure table or dataframe\n",
        "import pandas as pd\n",
        "#  find closest match to user input \n",
        "import difflib\n",
        "#convert text file into numerical values / vectors\n",
        "from sklearn.feature_extraction.text import TfidfVectorizer\n",
        "# find similar data to the user\n",
        "from sklearn.metrics.pairwise import cosine_similarity"
      ]
    },
    {
      "cell_type": "code",
      "source": [
        "# loading the data from the csv file to apandas dataframe\n",
        "movies_data = pd.read_csv('/content/movies.csv')"
      ],
      "metadata": {
        "id": "BJ0z-iFxs_9N"
      },
      "execution_count": null,
      "outputs": []
    },
    {
      "cell_type": "code",
      "source": [
        "#sample data \n",
        "movies_data.head(1)"
      ],
      "metadata": {
        "colab": {
          "base_uri": "https://localhost:8080/",
          "height": 296
        },
        "id": "ROpQwmD4qh5k",
        "outputId": "a6e35f4c-251a-4cae-f7a7-6e7c81840f2a"
      },
      "execution_count": null,
      "outputs": [
        {
          "output_type": "execute_result",
          "data": {
            "text/plain": [
              "   index     budget                                    genres  \\\n",
              "0      0  237000000  Action Adventure Fantasy Science Fiction   \n",
              "\n",
              "                      homepage     id  \\\n",
              "0  http://www.avatarmovie.com/  19995   \n",
              "\n",
              "                                            keywords original_language  \\\n",
              "0  culture clash future space war space colony so...                en   \n",
              "\n",
              "  original_title                                           overview  \\\n",
              "0         Avatar  In the 22nd century, a paraplegic Marine is di...   \n",
              "\n",
              "   popularity  ... runtime                                   spoken_languages  \\\n",
              "0  150.437577  ...   162.0  [{\"iso_639_1\": \"en\", \"name\": \"English\"}, {\"iso...   \n",
              "\n",
              "     status                      tagline   title vote_average vote_count  \\\n",
              "0  Released  Enter the World of Pandora.  Avatar          7.2      11800   \n",
              "\n",
              "                                                cast  \\\n",
              "0  Sam Worthington Zoe Saldana Sigourney Weaver S...   \n",
              "\n",
              "                                                crew       director  \n",
              "0  [{'name': 'Stephen E. Rivkin', 'gender': 0, 'd...  James Cameron  \n",
              "\n",
              "[1 rows x 24 columns]"
            ],
            "text/html": [
              "\n",
              "  <div id=\"df-43bc22a6-8010-4d0d-8e9a-0a37d1796374\">\n",
              "    <div class=\"colab-df-container\">\n",
              "      <div>\n",
              "<style scoped>\n",
              "    .dataframe tbody tr th:only-of-type {\n",
              "        vertical-align: middle;\n",
              "    }\n",
              "\n",
              "    .dataframe tbody tr th {\n",
              "        vertical-align: top;\n",
              "    }\n",
              "\n",
              "    .dataframe thead th {\n",
              "        text-align: right;\n",
              "    }\n",
              "</style>\n",
              "<table border=\"1\" class=\"dataframe\">\n",
              "  <thead>\n",
              "    <tr style=\"text-align: right;\">\n",
              "      <th></th>\n",
              "      <th>index</th>\n",
              "      <th>budget</th>\n",
              "      <th>genres</th>\n",
              "      <th>homepage</th>\n",
              "      <th>id</th>\n",
              "      <th>keywords</th>\n",
              "      <th>original_language</th>\n",
              "      <th>original_title</th>\n",
              "      <th>overview</th>\n",
              "      <th>popularity</th>\n",
              "      <th>...</th>\n",
              "      <th>runtime</th>\n",
              "      <th>spoken_languages</th>\n",
              "      <th>status</th>\n",
              "      <th>tagline</th>\n",
              "      <th>title</th>\n",
              "      <th>vote_average</th>\n",
              "      <th>vote_count</th>\n",
              "      <th>cast</th>\n",
              "      <th>crew</th>\n",
              "      <th>director</th>\n",
              "    </tr>\n",
              "  </thead>\n",
              "  <tbody>\n",
              "    <tr>\n",
              "      <th>0</th>\n",
              "      <td>0</td>\n",
              "      <td>237000000</td>\n",
              "      <td>Action Adventure Fantasy Science Fiction</td>\n",
              "      <td>http://www.avatarmovie.com/</td>\n",
              "      <td>19995</td>\n",
              "      <td>culture clash future space war space colony so...</td>\n",
              "      <td>en</td>\n",
              "      <td>Avatar</td>\n",
              "      <td>In the 22nd century, a paraplegic Marine is di...</td>\n",
              "      <td>150.437577</td>\n",
              "      <td>...</td>\n",
              "      <td>162.0</td>\n",
              "      <td>[{\"iso_639_1\": \"en\", \"name\": \"English\"}, {\"iso...</td>\n",
              "      <td>Released</td>\n",
              "      <td>Enter the World of Pandora.</td>\n",
              "      <td>Avatar</td>\n",
              "      <td>7.2</td>\n",
              "      <td>11800</td>\n",
              "      <td>Sam Worthington Zoe Saldana Sigourney Weaver S...</td>\n",
              "      <td>[{'name': 'Stephen E. Rivkin', 'gender': 0, 'd...</td>\n",
              "      <td>James Cameron</td>\n",
              "    </tr>\n",
              "  </tbody>\n",
              "</table>\n",
              "<p>1 rows × 24 columns</p>\n",
              "</div>\n",
              "      <button class=\"colab-df-convert\" onclick=\"convertToInteractive('df-43bc22a6-8010-4d0d-8e9a-0a37d1796374')\"\n",
              "              title=\"Convert this dataframe to an interactive table.\"\n",
              "              style=\"display:none;\">\n",
              "        \n",
              "  <svg xmlns=\"http://www.w3.org/2000/svg\" height=\"24px\"viewBox=\"0 0 24 24\"\n",
              "       width=\"24px\">\n",
              "    <path d=\"M0 0h24v24H0V0z\" fill=\"none\"/>\n",
              "    <path d=\"M18.56 5.44l.94 2.06.94-2.06 2.06-.94-2.06-.94-.94-2.06-.94 2.06-2.06.94zm-11 1L8.5 8.5l.94-2.06 2.06-.94-2.06-.94L8.5 2.5l-.94 2.06-2.06.94zm10 10l.94 2.06.94-2.06 2.06-.94-2.06-.94-.94-2.06-.94 2.06-2.06.94z\"/><path d=\"M17.41 7.96l-1.37-1.37c-.4-.4-.92-.59-1.43-.59-.52 0-1.04.2-1.43.59L10.3 9.45l-7.72 7.72c-.78.78-.78 2.05 0 2.83L4 21.41c.39.39.9.59 1.41.59.51 0 1.02-.2 1.41-.59l7.78-7.78 2.81-2.81c.8-.78.8-2.07 0-2.86zM5.41 20L4 18.59l7.72-7.72 1.47 1.35L5.41 20z\"/>\n",
              "  </svg>\n",
              "      </button>\n",
              "      \n",
              "  <style>\n",
              "    .colab-df-container {\n",
              "      display:flex;\n",
              "      flex-wrap:wrap;\n",
              "      gap: 12px;\n",
              "    }\n",
              "\n",
              "    .colab-df-convert {\n",
              "      background-color: #E8F0FE;\n",
              "      border: none;\n",
              "      border-radius: 50%;\n",
              "      cursor: pointer;\n",
              "      display: none;\n",
              "      fill: #1967D2;\n",
              "      height: 32px;\n",
              "      padding: 0 0 0 0;\n",
              "      width: 32px;\n",
              "    }\n",
              "\n",
              "    .colab-df-convert:hover {\n",
              "      background-color: #E2EBFA;\n",
              "      box-shadow: 0px 1px 2px rgba(60, 64, 67, 0.3), 0px 1px 3px 1px rgba(60, 64, 67, 0.15);\n",
              "      fill: #174EA6;\n",
              "    }\n",
              "\n",
              "    [theme=dark] .colab-df-convert {\n",
              "      background-color: #3B4455;\n",
              "      fill: #D2E3FC;\n",
              "    }\n",
              "\n",
              "    [theme=dark] .colab-df-convert:hover {\n",
              "      background-color: #434B5C;\n",
              "      box-shadow: 0px 1px 3px 1px rgba(0, 0, 0, 0.15);\n",
              "      filter: drop-shadow(0px 1px 2px rgba(0, 0, 0, 0.3));\n",
              "      fill: #FFFFFF;\n",
              "    }\n",
              "  </style>\n",
              "\n",
              "      <script>\n",
              "        const buttonEl =\n",
              "          document.querySelector('#df-43bc22a6-8010-4d0d-8e9a-0a37d1796374 button.colab-df-convert');\n",
              "        buttonEl.style.display =\n",
              "          google.colab.kernel.accessAllowed ? 'block' : 'none';\n",
              "\n",
              "        async function convertToInteractive(key) {\n",
              "          const element = document.querySelector('#df-43bc22a6-8010-4d0d-8e9a-0a37d1796374');\n",
              "          const dataTable =\n",
              "            await google.colab.kernel.invokeFunction('convertToInteractive',\n",
              "                                                     [key], {});\n",
              "          if (!dataTable) return;\n",
              "\n",
              "          const docLinkHtml = 'Like what you see? Visit the ' +\n",
              "            '<a target=\"_blank\" href=https://colab.research.google.com/notebooks/data_table.ipynb>data table notebook</a>'\n",
              "            + ' to learn more about interactive tables.';\n",
              "          element.innerHTML = '';\n",
              "          dataTable['output_type'] = 'display_data';\n",
              "          await google.colab.output.renderOutput(dataTable, element);\n",
              "          const docLink = document.createElement('div');\n",
              "          docLink.innerHTML = docLinkHtml;\n",
              "          element.appendChild(docLink);\n",
              "        }\n",
              "      </script>\n",
              "    </div>\n",
              "  </div>\n",
              "  "
            ]
          },
          "metadata": {},
          "execution_count": 21
        }
      ]
    },
    {
      "cell_type": "code",
      "source": [
        "# selecting the relevant features for recommendation\n",
        "selected_features = ['genres','keywords','tagline','cast','director']"
      ],
      "metadata": {
        "id": "dx76IHCbu_MJ"
      },
      "execution_count": null,
      "outputs": []
    },
    {
      "cell_type": "code",
      "metadata": {
        "id": "CKIVE6OWKSYk"
      },
      "source": [
        "# replacing the null valuess with null string\n",
        "\n",
        "for feature in selected_features:\n",
        "  movies_data[feature] = movies_data[feature].fillna('')"
      ],
      "execution_count": null,
      "outputs": []
    },
    {
      "cell_type": "code",
      "source": [
        "# combining all the 5 selected features\n",
        "combined_features = movies_data['genres']+' '+movies_data['keywords']+' '+movies_data['tagline']+' '+movies_data['cast']+' '+movies_data['director']"
      ],
      "metadata": {
        "id": "SubEkpFmu5or"
      },
      "execution_count": null,
      "outputs": []
    },
    {
      "cell_type": "code",
      "source": [
        "# converting the text data to feature vectors\n",
        "vectorizer = TfidfVectorizer()"
      ],
      "metadata": {
        "id": "CGWgOO_3tfKz"
      },
      "execution_count": null,
      "outputs": []
    },
    {
      "cell_type": "code",
      "source": [
        "feature_vectors = vectorizer.fit_transform(combined_features)"
      ],
      "metadata": {
        "id": "yuaStky93rv7"
      },
      "execution_count": null,
      "outputs": []
    },
    {
      "cell_type": "code",
      "source": [
        "# getting the similarity scores using cosine similarity\n",
        "similarity = cosine_similarity(feature_vectors)"
      ],
      "metadata": {
        "id": "cPCtaVLkuS-a"
      },
      "execution_count": null,
      "outputs": []
    },
    {
      "cell_type": "markdown",
      "source": [
        "#Movie Recommendation Sytem"
      ],
      "metadata": {
        "id": "3FEeu-mPoZF9"
      }
    },
    {
      "cell_type": "code",
      "source": [
        "print(\"\"\"click \n",
        "          0 for Movie\n",
        "          1 for exit \"\"\")\n",
        "a= int(input(\"Choose what u want : \"))\n",
        "if a==0:\n",
        "  c=0\n",
        "  while c==0:\n",
        "   # getting the movie name from the user\n",
        "   movie_name = input(' Enter your favourite movie name : ')\n",
        "\n",
        "    # creating a list with all the movie names given in the dataset\n",
        "   list_of_all_titles = movies_data['title'].tolist()\n",
        "\n",
        "   # finding the close match for the movie name given by the user\n",
        "   find_close_match = difflib.get_close_matches(movie_name, list_of_all_titles)\n",
        "   close_match = find_close_match[0]\n",
        "\n",
        "   # finding the index of the movie with title\n",
        "   index_of_the_movie = movies_data[movies_data.title == close_match]['index'].values[0]\n",
        "\n",
        "   # getting a list of similar movies\n",
        "   similarity_score = list(enumerate(similarity[index_of_the_movie]))\n",
        "\n",
        "\n",
        "    # sorting the movies based on their similarity score\n",
        "   sorted_similar_movies = sorted(similarity_score, key = lambda x:x[1], reverse = True) \n",
        "\n",
        "\n",
        "   # print the name of similar movies based on the index\n",
        "   print('Movies suggested for you : \\n')\n",
        "\n",
        "   i = 1\n",
        "\n",
        "   for movie in sorted_similar_movies:\n",
        "     index = movie[0]\n",
        "     title_from_index = movies_data[movies_data.index==index]['title'].values[0]\n",
        "     if (i<30):\n",
        "       print(i, '.',title_from_index)\n",
        "       i+=1\n",
        "   print(\"\"\"             click \n",
        "           0 for Search more movie\n",
        "           1 for exit \"\"\")\n",
        "   b= int(input(\"Choose what u want : \"))\n",
        "   c=b\n",
        "   if(b==1) :\n",
        "    print(\" visit again Thankyou ! \")\n",
        "   elif(b==0):\n",
        "     print(\"\")\n",
        "   else:\n",
        "     print(\"WRONG OPTION OPTED\")\n",
        " \n",
        "   # main loop elif\n",
        "elif(a==1) :\n",
        "  print(\" visit again Thankyou ! \")\n",
        "else:\n",
        "  print(\" WRONG OPTION OPTED\")\n",
        "  "
      ],
      "metadata": {
        "colab": {
          "base_uri": "https://localhost:8080/"
        },
        "id": "8WlDV-DupUxe",
        "outputId": "9868ef2d-4866-493a-c3cf-792f9e4e8bb2",
        "collapsed": true
      },
      "execution_count": null,
      "outputs": [
        {
          "output_type": "stream",
          "name": "stdout",
          "text": [
            "click \n",
            "          0 for Movie\n",
            "          1 for exit \n",
            "Choose what u want : 0\n",
            " Enter your favourite movie name : hee\n",
            "Movies suggested for you : \n",
            "\n",
            "1 . Three\n",
            "2 . Cloud Atlas\n",
            "3 . Resident Evil: Apocalypse\n",
            "4 . Perfume: The Story of a Murderer\n",
            "5 . The International\n",
            "6 . The Helix... Loaded\n",
            "7 . Alex & Emma\n",
            "8 . Anomalisa\n",
            "9 . Bridge of Spies\n",
            "10 . Velvet Goldmine\n",
            "11 . Just Looking\n",
            "12 . The Christmas Bunny\n",
            "13 . The Bad News Bears\n",
            "14 . Captain America: The Winter Soldier\n",
            "15 . Run Lola Run\n",
            "16 . The Apparition\n",
            "17 . 50 First Dates\n",
            "18 . Tomorrowland\n",
            "19 . Captain America: Civil War\n",
            "20 . Plastic\n",
            "21 . All Superheroes Must Die\n",
            "22 . Rachel Getting Married\n",
            "23 . Captain America: The First Avenger\n",
            "24 . After Earth\n",
            "25 . Æon Flux\n",
            "26 . The Howling\n",
            "27 . My Blueberry Nights\n",
            "28 . Animal House\n",
            "29 . The BFG\n",
            "             click \n",
            "           0 for Search more movie\n",
            "           1 for exit \n",
            "Choose what u want : 1\n",
            " visit again Thankyou ! \n"
          ]
        }
      ]
    }
  ]
}